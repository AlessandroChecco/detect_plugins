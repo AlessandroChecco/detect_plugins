{
 "cells": [
  {
   "cell_type": "code",
   "execution_count": 182,
   "metadata": {
    "ExecuteTime": {
     "end_time": "2021-06-04T16:34:23.680495Z",
     "start_time": "2021-06-04T16:34:23.666562Z"
    }
   },
   "outputs": [
    {
     "name": "stdout",
     "output_type": "stream",
     "text": [
      "Populating the interactive namespace from numpy and matplotlib\n"
     ]
    },
    {
     "name": "stderr",
     "output_type": "stream",
     "text": [
      "/Users/alessandro/opt/anaconda3/envs/main/lib/python3.6/site-packages/IPython/core/magics/pylab.py:160: UserWarning: pylab import has clobbered these variables: ['f']\n",
      "`%matplotlib` prevents importing * from pylab and numpy\n",
      "  \"\\n`%matplotlib` prevents importing * from pylab and numpy\"\n"
     ]
    }
   ],
   "source": [
    "import pandas as pd\n",
    "import glob\n",
    "import numpy as np\n",
    "import seaborn as sns\n",
    "%pylab inline"
   ]
  },
  {
   "cell_type": "code",
   "execution_count": 3,
   "metadata": {
    "ExecuteTime": {
     "end_time": "2021-06-04T15:34:10.376525Z",
     "start_time": "2021-06-04T15:34:10.368191Z"
    }
   },
   "outputs": [],
   "source": [
    "files = glob.glob(\"./*_batch_results.csv\")"
   ]
  },
  {
   "cell_type": "code",
   "execution_count": 4,
   "metadata": {
    "ExecuteTime": {
     "end_time": "2021-06-04T15:34:15.746265Z",
     "start_time": "2021-06-04T15:34:15.742448Z"
    }
   },
   "outputs": [
    {
     "name": "stdout",
     "output_type": "stream",
     "text": [
      "['./Batch_3797042_batch_results.csv', './Batch_3841374_batch_results.csv', './Batch_3796768_batch_results.csv', './Batch_3805226_batch_results.csv', './Batch_3799572_batch_results.csv', './Batch_3828151_batch_results.csv', './Batch_3668978_batch_results.csv', './Batch_3805083_batch_results.csv', './Batch_3668976_batch_results.csv']\n"
     ]
    }
   ],
   "source": [
    "print(files)"
   ]
  },
  {
   "cell_type": "code",
   "execution_count": 28,
   "metadata": {
    "ExecuteTime": {
     "end_time": "2021-06-04T15:45:03.900481Z",
     "start_time": "2021-06-04T15:45:02.085708Z"
    }
   },
   "outputs": [],
   "source": [
    "df = pd.DataFrame()\n",
    "for f in files:\n",
    "    csv = pd.read_csv(f)\n",
    "    df = df.append(csv)"
   ]
  },
  {
   "cell_type": "code",
   "execution_count": 29,
   "metadata": {
    "ExecuteTime": {
     "end_time": "2021-06-04T15:45:03.907803Z",
     "start_time": "2021-06-04T15:45:03.902343Z"
    }
   },
   "outputs": [
    {
     "name": "stdout",
     "output_type": "stream",
     "text": [
      "AutoApprovalDelayInSeconds      int64\n",
      "Expiration                     object\n",
      "NumberOfSimilarHITs           float64\n",
      "LifetimeInSeconds             float64\n",
      "AssignmentId                   object\n",
      "WorkerId                       object\n",
      "AssignmentStatus               object\n",
      "AcceptTime                     object\n",
      "SubmitTime                     object\n",
      "AutoApprovalTime               object\n",
      "dtype: object\n"
     ]
    }
   ],
   "source": [
    "print(df.dtypes[10:20])"
   ]
  },
  {
   "cell_type": "code",
   "execution_count": 30,
   "metadata": {
    "ExecuteTime": {
     "end_time": "2021-06-04T15:45:05.588115Z",
     "start_time": "2021-06-04T15:45:05.585352Z"
    }
   },
   "outputs": [],
   "source": [
    "tokeep = [\"HITTypeId\", \"WorkerId\", \"AcceptTime\", \"SubmitTime\"]"
   ]
  },
  {
   "cell_type": "code",
   "execution_count": 31,
   "metadata": {
    "ExecuteTime": {
     "end_time": "2021-06-04T15:45:06.221967Z",
     "start_time": "2021-06-04T15:45:06.120067Z"
    }
   },
   "outputs": [],
   "source": [
    "df = df[tokeep]"
   ]
  },
  {
   "cell_type": "code",
   "execution_count": 32,
   "metadata": {
    "ExecuteTime": {
     "end_time": "2021-06-04T15:45:15.017100Z",
     "start_time": "2021-06-04T15:45:06.678949Z"
    }
   },
   "outputs": [
    {
     "name": "stderr",
     "output_type": "stream",
     "text": [
      "/Users/alessandro/opt/anaconda3/envs/main/lib/python3.6/site-packages/dateutil/parser/_parser.py:1218: UnknownTimezoneWarning: tzname PDT identified but not understood.  Pass `tzinfos` argument in order to correctly return a timezone-aware datetime.  In a future version, this will raise an exception.\n",
      "  category=UnknownTimezoneWarning)\n",
      "/Users/alessandro/opt/anaconda3/envs/main/lib/python3.6/site-packages/dateutil/parser/_parser.py:1218: UnknownTimezoneWarning: tzname PST identified but not understood.  Pass `tzinfos` argument in order to correctly return a timezone-aware datetime.  In a future version, this will raise an exception.\n",
      "  category=UnknownTimezoneWarning)\n"
     ]
    }
   ],
   "source": [
    "df['SubmitTime'] = pd.to_datetime(df['SubmitTime'])"
   ]
  },
  {
   "cell_type": "code",
   "execution_count": 33,
   "metadata": {
    "ExecuteTime": {
     "end_time": "2021-06-04T15:45:22.911234Z",
     "start_time": "2021-06-04T15:45:15.019947Z"
    }
   },
   "outputs": [],
   "source": [
    "df['AcceptTime'] = pd.to_datetime(df['AcceptTime'])"
   ]
  },
  {
   "cell_type": "code",
   "execution_count": 165,
   "metadata": {
    "ExecuteTime": {
     "end_time": "2021-06-04T16:25:34.669016Z",
     "start_time": "2021-06-04T16:25:34.664039Z"
    }
   },
   "outputs": [],
   "source": [
    "def accept_diff(group, threshold=2):\n",
    "    g = group.sort_values(by=['AcceptTime'])\n",
    "    times = g.AcceptTime.diff().apply(lambda x: x.total_seconds()).dropna()\n",
    "    l = len(times)\n",
    "    if l == 0:\n",
    "        return pd.Series({'plugin_ratio':0,'n_HITs':0})\n",
    "    else:\n",
    "        return pd.Series({'plugin_ratio':sum(times<threshold)/l,'n_HITs':l})"
   ]
  },
  {
   "cell_type": "code",
   "execution_count": 172,
   "metadata": {
    "ExecuteTime": {
     "end_time": "2021-06-04T16:30:47.592304Z",
     "start_time": "2021-06-04T16:30:44.749695Z"
    }
   },
   "outputs": [],
   "source": [
    "worker_plugin = df.groupby(by=['WorkerId','HITTypeId'],as_index=False).apply(accept_diff).sort_values(by=['n_HITs','plugin_ratio'],ascending=False)"
   ]
  },
  {
   "cell_type": "code",
   "execution_count": 191,
   "metadata": {
    "ExecuteTime": {
     "end_time": "2021-06-04T16:48:33.814407Z",
     "start_time": "2021-06-04T16:48:33.367257Z"
    }
   },
   "outputs": [
    {
     "data": {
      "image/png": "[encoded data removed]",
      "text/plain": [
       "<Figure size 360x360 with 1 Axes>"
      ]
     },
     "metadata": {
      "needs_background": "light"
     },
     "output_type": "display_data"
    }
   ],
   "source": [
    "sns.displot(data=worker_plugin,x='plugin_ratio').set(yscale=\"log\");\n",
    "#distribution of workers with different proportion of almost-instantly reserved HITs"
   ]
  },
  {
   "cell_type": "code",
   "execution_count": 188,
   "metadata": {
    "ExecuteTime": {
     "end_time": "2021-06-04T16:37:15.680774Z",
     "start_time": "2021-06-04T16:37:15.674548Z"
    }
   },
   "outputs": [
    {
     "data": {
      "text/plain": [
       "50"
      ]
     },
     "execution_count": 188,
     "metadata": {},
     "output_type": "execute_result"
    }
   ],
   "source": [
    "# how many with more than 10% of hits accepted in less than threshold, excluding workers with less than 5 HITs\n",
    "len(worker_plugin[(worker_plugin.plugin_ratio>0.1) & ((worker_plugin.n_HITs>5))])"
   ]
  },
  {
   "cell_type": "code",
   "execution_count": 189,
   "metadata": {
    "ExecuteTime": {
     "end_time": "2021-06-04T16:37:39.771511Z",
     "start_time": "2021-06-04T16:37:39.764981Z"
    }
   },
   "outputs": [
    {
     "data": {
      "text/plain": [
       "0.02965599051008304"
      ]
     },
     "execution_count": 189,
     "metadata": {},
     "output_type": "execute_result"
    }
   ],
   "source": [
    "# that is a ratio of \n",
    "len(worker_plugin[(worker_plugin.plugin_ratio>0.1) & ((worker_plugin.n_HITs>5))])/len(worker_plugin)"
   ]
  },
  {
   "cell_type": "code",
   "execution_count": 178,
   "metadata": {
    "ExecuteTime": {
     "end_time": "2021-06-04T16:31:53.698580Z",
     "start_time": "2021-06-04T16:31:53.690792Z"
    }
   },
   "outputs": [
    {
     "data": {
      "text/plain": [
       "1314"
      ]
     },
     "execution_count": 178,
     "metadata": {},
     "output_type": "execute_result"
    }
   ],
   "source": [
    "df.WorkerId.nunique()"
   ]
  },
  {
   "cell_type": "code",
   "execution_count": 190,
   "metadata": {
    "ExecuteTime": {
     "end_time": "2021-06-04T16:46:24.281772Z",
     "start_time": "2021-06-04T16:46:24.277254Z"
    }
   },
   "outputs": [
    {
     "data": {
      "text/plain": [
       "63967"
      ]
     },
     "execution_count": 190,
     "metadata": {},
     "output_type": "execute_result"
    }
   ],
   "source": [
    "len(df)"
   ]
  },
  {
   "cell_type": "code",
   "execution_count": null,
   "metadata": {},
   "outputs": [],
   "source": []
  }
 ],
 "metadata": {
  "kernelspec": {
   "display_name": "Python 3",
   "language": "python",
   "name": "python3"
  },
  "language_info": {
   "codemirror_mode": {
    "name": "ipython",
    "version": 3
   },
   "file_extension": ".py",
   "mimetype": "text/x-python",
   "name": "python",
   "nbconvert_exporter": "python",
   "pygments_lexer": "ipython3",
   "version": "3.6.12"
  }
 },
 "nbformat": 4,
 "nbformat_minor": 4
}
